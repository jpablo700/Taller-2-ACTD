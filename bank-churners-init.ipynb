{
 "cells": [
  {
   "cell_type": "markdown",
   "id": "fa66a9c9",
   "metadata": {
    "papermill": {
     "duration": 0.014153,
     "end_time": "2023-04-29T13:29:31.248114",
     "exception": false,
     "start_time": "2023-04-29T13:29:31.233961",
     "status": "completed"
    },
    "tags": []
   },
   "source": []
  },
  {
   "cell_type": "markdown",
   "id": "f9418b2a",
   "metadata": {
    "papermill": {
     "duration": 0.012662,
     "end_time": "2023-04-29T13:29:31.273772",
     "exception": false,
     "start_time": "2023-04-29T13:29:31.261110",
     "status": "completed"
    },
    "tags": []
   },
   "source": [
    "## Import Libraries"
   ]
  },
  {
   "cell_type": "code",
   "execution_count": null,
   "id": "f98d0106",
   "metadata": {
    "execution": {
     "iopub.execute_input": "2023-04-29T13:29:31.302138Z",
     "iopub.status.busy": "2023-04-29T13:29:31.301405Z",
     "iopub.status.idle": "2023-04-29T13:29:33.164112Z",
     "shell.execute_reply": "2023-04-29T13:29:33.162399Z"
    },
    "papermill": {
     "duration": 1.880783,
     "end_time": "2023-04-29T13:29:33.167438",
     "exception": false,
     "start_time": "2023-04-29T13:29:31.286655",
     "status": "completed"
    },
    "tags": []
   },
   "outputs": [],
   "source": [
    "# Basic libraries\n",
    "import numpy as np\n",
    "import pandas as pd"
   ]
  },
  {
   "cell_type": "markdown",
   "id": "65f164b0",
   "metadata": {
    "papermill": {
     "duration": 0.013005,
     "end_time": "2023-04-29T13:29:33.195383",
     "exception": false,
     "start_time": "2023-04-29T13:29:33.182378",
     "status": "completed"
    },
    "tags": []
   },
   "source": [
    "## Import Dataset"
   ]
  },
  {
   "cell_type": "code",
   "execution_count": null,
   "id": "a9a7ce94",
   "metadata": {},
   "outputs": [],
   "source": [
    "df = pd.read_csv('.\\\\BankChurn.csv')\n"
   ]
  },
  {
   "cell_type": "code",
   "execution_count": null,
   "id": "159cc7e7",
   "metadata": {},
   "outputs": [],
   "source": [
    "df.shape"
   ]
  },
  {
   "cell_type": "code",
   "execution_count": null,
   "id": "b3afe95d",
   "metadata": {},
   "outputs": [],
   "source": [
    "df.head()"
   ]
  },
  {
   "cell_type": "code",
   "execution_count": null,
   "id": "5b81bf5f",
   "metadata": {},
   "outputs": [],
   "source": [
    "df[\"Attrition_Flag\"].unique()"
   ]
  },
  {
   "cell_type": "code",
   "execution_count": null,
   "id": "96f27a7e",
   "metadata": {},
   "outputs": [],
   "source": [
    "df.groupby([\"Attrition_Flag\"]).count()"
   ]
  },
  {
   "cell_type": "code",
   "execution_count": null,
   "id": "bd5524f1",
   "metadata": {
    "execution": {
     "iopub.execute_input": "2023-04-29T13:29:33.485637Z",
     "iopub.status.busy": "2023-04-29T13:29:33.485220Z",
     "iopub.status.idle": "2023-04-29T13:29:33.559629Z",
     "shell.execute_reply": "2023-04-29T13:29:33.558343Z"
    },
    "papermill": {
     "duration": 0.091931,
     "end_time": "2023-04-29T13:29:33.562112",
     "exception": false,
     "start_time": "2023-04-29T13:29:33.470181",
     "status": "completed"
    },
    "tags": []
   },
   "outputs": [],
   "source": [
    "df.describe()"
   ]
  },
  {
   "cell_type": "code",
   "execution_count": null,
   "id": "d0cb1e7d",
   "metadata": {
    "execution": {
     "iopub.execute_input": "2023-04-29T13:29:33.592783Z",
     "iopub.status.busy": "2023-04-29T13:29:33.591751Z",
     "iopub.status.idle": "2023-04-29T13:29:33.623691Z",
     "shell.execute_reply": "2023-04-29T13:29:33.622299Z"
    },
    "papermill": {
     "duration": 0.050668,
     "end_time": "2023-04-29T13:29:33.626754",
     "exception": false,
     "start_time": "2023-04-29T13:29:33.576086",
     "status": "completed"
    },
    "tags": []
   },
   "outputs": [],
   "source": [
    "# number of churn and non-churn \n",
    "counts = df.Attrition_Flag.value_counts()\n",
    "perc_churn = (counts[1] / (counts[0] + counts[1])) * 100\n",
    "\n",
    "# no. of duplicates \n",
    "duplicates = len(df[df.duplicated()])\n",
    "\n",
    "# no of missing values\n",
    "missing_values = df.isnull().sum().sum()\n",
    "\n",
    "# Data types in dataset\n",
    "types = df.dtypes.value_counts()"
   ]
  },
  {
   "cell_type": "code",
   "execution_count": null,
   "id": "9c9b6978",
   "metadata": {
    "execution": {
     "iopub.execute_input": "2023-04-29T13:29:33.656790Z",
     "iopub.status.busy": "2023-04-29T13:29:33.656369Z",
     "iopub.status.idle": "2023-04-29T13:29:33.665202Z",
     "shell.execute_reply": "2023-04-29T13:29:33.663940Z"
    },
    "papermill": {
     "duration": 0.027655,
     "end_time": "2023-04-29T13:29:33.668416",
     "exception": false,
     "start_time": "2023-04-29T13:29:33.640761",
     "status": "completed"
    },
    "tags": []
   },
   "outputs": [],
   "source": [
    "print(\"Churn Rate = %.1f %%\"%(perc_churn))\n",
    "print('Number of Duplicate Entries: %d'%(duplicates))\n",
    "print('Number of Missing Values: %d'%(missing_values))\n",
    "print('Number of Features: %d'%(df.shape[1]))\n",
    "print('Number of Customers: %d'%(df.shape[0]))\n",
    "print('Data Types and Frequency in Dataset:')\n",
    "print(types)"
   ]
  },
  {
   "cell_type": "markdown",
   "id": "0d9f525f",
   "metadata": {
    "papermill": {
     "duration": 0.020854,
     "end_time": "2023-04-29T13:29:37.075271",
     "exception": false,
     "start_time": "2023-04-29T13:29:37.054417",
     "status": "completed"
    },
    "tags": []
   },
   "source": [
    "## Pre-Processing"
   ]
  },
  {
   "cell_type": "code",
   "execution_count": null,
   "id": "9ba36a48",
   "metadata": {
    "execution": {
     "iopub.execute_input": "2023-04-29T13:29:37.118344Z",
     "iopub.status.busy": "2023-04-29T13:29:37.117891Z",
     "iopub.status.idle": "2023-04-29T13:29:37.215869Z",
     "shell.execute_reply": "2023-04-29T13:29:37.214861Z"
    },
    "papermill": {
     "duration": 0.122753,
     "end_time": "2023-04-29T13:29:37.218672",
     "exception": false,
     "start_time": "2023-04-29T13:29:37.095919",
     "status": "completed"
    },
    "tags": []
   },
   "outputs": [],
   "source": [
    "# make gender and outcome numerical\n",
    "df['Gender'] = df['Gender'].map({'M': 1, 'F': 0})\n",
    "df['Attrition_Flag'] = df['Attrition_Flag'].map({'Attrited Customer': 1, 'Existing Customer': 0})\n",
    "\n",
    "\n",
    "# Code adapted from: https://www.kaggle.com/code/andreshg/churn-prediction-0-99-auc-h2o-sklearn-smote#2.-Feature-Engeneering\n",
    "catcols = df.select_dtypes(exclude = ['int64','float64']).columns\n",
    "intcols = df.select_dtypes(include = ['int64']).columns\n",
    "floatcols = df.select_dtypes(include = ['float64']).columns\n",
    "\n",
    "# one-hot encoding on categorical columns\n",
    "df = pd.get_dummies(df, columns = catcols)\n",
    "   \n",
    "print('New Number of Features: %d'%(df.shape[1]))  "
   ]
  }
 ],
 "metadata": {
  "kernelspec": {
   "display_name": "Python 3",
   "language": "python",
   "name": "python3"
  },
  "language_info": {
   "codemirror_mode": {
    "name": "ipython",
    "version": 3
   },
   "file_extension": ".py",
   "mimetype": "text/x-python",
   "name": "python",
   "nbconvert_exporter": "python",
   "pygments_lexer": "ipython3",
   "version": "3.11.4"
  },
  "papermill": {
   "default_parameters": {},
   "duration": 148.559691,
   "end_time": "2023-04-29T13:31:48.779871",
   "environment_variables": {},
   "exception": null,
   "input_path": "__notebook__.ipynb",
   "output_path": "__notebook__.ipynb",
   "parameters": {},
   "start_time": "2023-04-29T13:29:20.220180",
   "version": "2.4.0"
  }
 },
 "nbformat": 4,
 "nbformat_minor": 5
}
